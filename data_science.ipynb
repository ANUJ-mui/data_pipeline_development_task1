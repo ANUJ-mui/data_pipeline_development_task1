{
 "cells": [
  {
   "cell_type": "code",
   "execution_count": 27,
   "id": "e53fc8c7-d69e-4915-bbcc-2d2d7ce5fa60",
   "metadata": {},
   "outputs": [],
   "source": [
    "# Import required libraries\n",
    "import pandas as pd\n",
    "import numpy as np"
   ]
  },
  {
   "cell_type": "code",
   "execution_count": 29,
   "id": "afe71f80-6cec-47bd-9c1c-346756000330",
   "metadata": {},
   "outputs": [],
   "source": [
    "def generate_dummy_data(num_rows=100):\n",
    "    \"\"\"\n",
    "    Generates dummy transaction data.\n",
    "    \"\"\"\n",
    "    np.random.seed(42)\n",
    "    data = {\n",
    "        'transaction_id': np.arange(1, num_rows + 1),\n",
    "        'customer_id': np.random.randint(1000, 2000, num_rows),\n",
    "        'transaction_date': pd.to_datetime('2023-01-01') + pd.to_timedelta(\n",
    "            np.random.randint(0, 365, num_rows), unit='D'),\n",
    "        'amount': np.random.uniform(10, 1000, num_rows),\n",
    "        'product_category': np.random.choice(['Electronics', 'Clothing', 'Home Goods', 'Books'], num_rows),\n",
    "        'location': np.random.choice(['New York', 'Los Angeles', 'Chicago', 'Houston'], num_rows)\n",
    "    }\n",
    "    return pd.DataFrame(data)"
   ]
  },
  {
   "cell_type": "code",
   "execution_count": 31,
   "id": "5e5ee246-4834-4ab1-bc86-e9866650feb6",
   "metadata": {},
   "outputs": [],
   "source": [
    "def data_cleaning(df):\n",
    "    \"\"\"\n",
    "    Cleans the dataset: removes nulls and invalid values.\n",
    "    \"\"\"\n",
    "    df = df.dropna()\n",
    "    df = df[df['amount'] > 0].copy()  # Prevent warning\n",
    "    return df"
   ]
  },
  {
   "cell_type": "code",
   "execution_count": 33,
   "id": "59691bec-8e58-4ec4-9c09-2fbe8104d3d2",
   "metadata": {},
   "outputs": [],
   "source": [
    "def data_transformation(df):\n",
    "    \"\"\"\n",
    "    Adds a column for the transaction year.\n",
    "    \"\"\"\n",
    "    df['transaction_year'] = df['transaction_date'].dt.year\n",
    "    return df"
   ]
  },
  {
   "cell_type": "code",
   "execution_count": 35,
   "id": "8c1d8203-5c32-4190-bd5c-9f4fa2531fea",
   "metadata": {},
   "outputs": [],
   "source": [
    "def data_aggregation(df):\n",
    "    \"\"\"\n",
    "    Aggregates total amount by product category.\n",
    "    \"\"\"\n",
    "    agg_df = df.groupby('product_category')['amount'].sum().reset_index()\n",
    "    return agg_df"
   ]
  },
  {
   "cell_type": "code",
   "execution_count": 37,
   "id": "4b794770-2951-49be-9e83-af27d4bc2ba6",
   "metadata": {},
   "outputs": [
    {
     "name": "stdout",
     "output_type": "stream",
     "text": [
      " Step 1: Dummy Data\n",
      "   transaction_id  customer_id transaction_date      amount product_category  \\\n",
      "0               1         1102       2023-02-13  331.101571       Home Goods   \n",
      "1               2         1435       2023-06-11  130.867075      Electronics   \n",
      "2               3         1860       2023-07-21  362.734860            Books   \n",
      "3               4         1270       2023-09-27  907.760157      Electronics   \n",
      "4               5         1106       2023-12-17  279.410927            Books   \n",
      "\n",
      "      location  \n",
      "0  Los Angeles  \n",
      "1      Chicago  \n",
      "2  Los Angeles  \n",
      "3      Chicago  \n",
      "4  Los Angeles  \n",
      "\n",
      " Step 2: Cleaned Data\n",
      "   transaction_id  customer_id transaction_date      amount product_category  \\\n",
      "0               1         1102       2023-02-13  331.101571       Home Goods   \n",
      "1               2         1435       2023-06-11  130.867075      Electronics   \n",
      "2               3         1860       2023-07-21  362.734860            Books   \n",
      "3               4         1270       2023-09-27  907.760157      Electronics   \n",
      "4               5         1106       2023-12-17  279.410927            Books   \n",
      "\n",
      "      location  \n",
      "0  Los Angeles  \n",
      "1      Chicago  \n",
      "2  Los Angeles  \n",
      "3      Chicago  \n",
      "4  Los Angeles  \n",
      "\n",
      " Step 3: Transformed Data\n",
      "   transaction_id  customer_id transaction_date      amount product_category  \\\n",
      "0               1         1102       2023-02-13  331.101571       Home Goods   \n",
      "1               2         1435       2023-06-11  130.867075      Electronics   \n",
      "2               3         1860       2023-07-21  362.734860            Books   \n",
      "3               4         1270       2023-09-27  907.760157      Electronics   \n",
      "4               5         1106       2023-12-17  279.410927            Books   \n",
      "\n",
      "      location  transaction_year  \n",
      "0  Los Angeles              2023  \n",
      "1      Chicago              2023  \n",
      "2  Los Angeles              2023  \n",
      "3      Chicago              2023  \n",
      "4  Los Angeles              2023  \n",
      "\n",
      " Step 4: Aggregated Data\n",
      "  product_category        amount\n",
      "0            Books  14249.872214\n",
      "1         Clothing  13649.898888\n",
      "2      Electronics  12704.435011\n",
      "3       Home Goods  11072.129103\n"
     ]
    }
   ],
   "source": [
    "# Step 1: Generate data\n",
    "dummy_data = generate_dummy_data(100)\n",
    "print(\" Step 1: Dummy Data\")\n",
    "print(dummy_data.head())\n",
    "\n",
    "# Step 2: Clean data\n",
    "cleaned_data = data_cleaning(dummy_data)\n",
    "print(\"\\n Step 2: Cleaned Data\")\n",
    "print(cleaned_data.head())\n",
    "\n",
    "# Step 3: Transform data\n",
    "transformed_data = data_transformation(cleaned_data)\n",
    "print(\"\\n Step 3: Transformed Data\")\n",
    "print(transformed_data.head())\n",
    "\n",
    "# Step 4: Aggregate data\n",
    "aggregated_data = data_aggregation(transformed_data)\n",
    "print(\"\\n Step 4: Aggregated Data\")\n",
    "print(aggregated_data)"
   ]
  },
  {
   "cell_type": "code",
   "execution_count": null,
   "id": "738c8a83-07df-4290-854b-e5d2f06c0025",
   "metadata": {},
   "outputs": [],
   "source": []
  }
 ],
 "metadata": {
  "kernelspec": {
   "display_name": "Python [conda env:base] *",
   "language": "python",
   "name": "conda-base-py"
  },
  "language_info": {
   "codemirror_mode": {
    "name": "ipython",
    "version": 3
   },
   "file_extension": ".py",
   "mimetype": "text/x-python",
   "name": "python",
   "nbconvert_exporter": "python",
   "pygments_lexer": "ipython3",
   "version": "3.12.7"
  }
 },
 "nbformat": 4,
 "nbformat_minor": 5
}
